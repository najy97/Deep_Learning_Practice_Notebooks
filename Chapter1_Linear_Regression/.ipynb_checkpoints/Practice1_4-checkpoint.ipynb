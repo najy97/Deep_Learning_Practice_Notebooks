{
 "cells": [
  {
   "cell_type": "markdown",
   "metadata": {},
   "source": [
    "# Implementation Practice.1-4\n",
    "## Forward and Backward Propagation with $y = \\theta_{1} x + \\theta_{0}$"
   ]
  },
  {
   "cell_type": "markdown",
   "metadata": {},
   "source": [
    "***\n",
    "### Dataset Generation\n",
    "NumPy를 이용하여 다음과 같은 x_data, y_data를 만드시오.\n",
    "\n",
    "| Data Index | Study Hour | Math Score |\n",
    "|:-:|:-:|:-:|\n",
    "|0|1|2|\n",
    "|1|2|3|\n",
    "|2|3|4|\n",
    "|3|4|5|\n",
    "|4|5|6|\n",
    "\n",
    "위의 data는 $y = \\theta_{1} x + \\theta_{0}$로 modeling을 할 수 있다.\n",
    "이 model에 대한 forward propagation은 다음과 같다.\n",
    "\n",
    "<img src=\"./images/1_4_image1.png\" width = 300>"
   ]
  },
  {
   "cell_type": "code",
   "execution_count": 4,
   "metadata": {},
   "outputs": [
    {
     "name": "stdout",
     "output_type": "stream",
     "text": [
      "[0 1 2 3 4] [1 2 3 4 5]\n"
     ]
    },
    {
     "data": {
      "text/plain": [
       "[<matplotlib.lines.Line2D at 0x7f91135b8278>]"
      ]
     },
     "execution_count": 4,
     "metadata": {},
     "output_type": "execute_result"
    },
    {
     "data": {
      "image/png": "[encoded data removed]",
      "text/plain": [
       "<Figure size 360x360 with 1 Axes>"
      ]
     },
     "metadata": {
      "needs_background": "light"
     },
     "output_type": "display_data"
    }
   ],
   "source": [
    "import numpy as np\n",
    "import matplotlib.pyplot as plt\n",
    "\n",
    "##### Your Code #####\n",
    "x_data = np.arange(5)\n",
    "y_data = x_data + 1\n",
    "##### Your Code #####\n",
    "\n",
    "print(x_data, y_data)\n",
    "fig, ax = plt.subplots(figsize = (5,5))\n",
    "ax.plot(x_data, y_data, 'bo')"
   ]
  },
  {
   "cell_type": "markdown",
   "metadata": {},
   "source": [
    "**Expected Output:**\n",
    "\n",
    "[0 1 2 3 4] [1 2 3 4 5]\n",
    "<img src=\"./images/1_4_image1.png\" width = 300>"
   ]
  },
  {
   "cell_type": "code",
   "execution_count": null,
   "metadata": {},
   "outputs": [],
   "source": []
  }
 ],
 "metadata": {
  "kernelspec": {
   "display_name": "Python 3",
   "language": "python",
   "name": "python3"
  },
  "language_info": {
   "codemirror_mode": {
    "name": "ipython",
    "version": 3
   },
   "file_extension": ".py",
   "mimetype": "text/x-python",
   "name": "python",
   "nbconvert_exporter": "python",
   "pygments_lexer": "ipython3",
   "version": "3.6.10"
  }
 },
 "nbformat": 4,
 "nbformat_minor": 2
}

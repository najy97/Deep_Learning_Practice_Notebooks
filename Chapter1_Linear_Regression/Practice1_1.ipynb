{
 "cells": [
  {
   "cell_type": "markdown",
   "metadata": {},
   "source": [
    "# Implementation Practice.1\n",
    "## Forward and Backward Propagation with $y = \\theta x$"
   ]
  },
  {
   "cell_type": "markdown",
   "metadata": {},
   "source": [
    "***\n",
    "### Dataset Generation\n",
    "NumPy를 이용하여 다음과 같은 x_data, y_data를 만드시오.\n",
    "\n",
    "| Data Index | Study Hour | Math Score |\n",
    "|:-:|:-:|:-:|\n",
    "|0|1|1|\n",
    "|1|2|2|\n",
    "|2|3|3|\n",
    "|3|4|4|\n",
    "|4|5|5|"
   ]
  },
  {
   "cell_type": "code",
   "execution_count": 1,
   "metadata": {
    "scrolled": true
   },
   "outputs": [],
   "source": [
    "import numpy as np\n",
    "import matplotlib.pyplot as plt\n",
    "\n",
    "##### Your Code #####\n",
    "x_data = np.\n",
    "y_data = np.\n",
    "##### Your Code #####\n",
    "\n",
    "print(x_data, y_data)"
   ]
  },
  {
   "cell_type": "markdown",
   "metadata": {},
   "source": [
    "**Expected Output:**\n",
    "    \n",
    "\n",
    "[1 2 3 4 5] [1 2 3 4 5]"
   ]
  },
  {
   "cell_type": "markdown",
   "metadata": {},
   "source": [
    "우리의 model이 $y = \\theta x$였을 때, $(x^{(1)},y^{(1)}) $에 대하여 loss를 구하는 과정은 다음과 같다.\n",
    "\n",
    "Step1: $ z_{1}^{(1)} = \\theta x^{(1)} $\n",
    "\n",
    "Step2: $ z_{2}^{(1)} = y^{(1)} - z_{1}^{(1)} $\n",
    "\n",
    "Step3: $ L^{(1)} = (z_{2}^{(1)})^{2} $\n"
   ]
  },
  {
   "cell_type": "markdown",
   "metadata": {},
   "source": [
    "위의 과정을 forward propagation이라하며, 차례대로 곱셈, 뺄셈, 제곱이 이루어진다.\n",
    "\n",
    "그러면 위의 과정 외에 forward-propagation 및 backpropagation을 연습하기 위하여 덧셈, 뺄셈, 곱셈, 제곱에 대한 node를 만들어 각각 forward, backward 기능을 추가해보자. <br><br>\n",
    "\n",
    "***\n",
    "### Node Implementation\n",
    "다음은 plus node의 예제이다.\n",
    "\n",
    "forward() method는 input들을 더하여 다음 node로 보내주는 역할을 하며\n",
    "\n",
    "backward() method는 output 쪽에서 propagated된 loss에 대한 gradient를 받아 자신의 gradient를 곱하여 input 쪽으로 넘겨준다. 즉\n",
    "\n",
    "$ z = x + y$에 대하여 $\\frac{\\partial z}{\\partial x} = 1$, $\\frac{\\partial z}{\\partial y} = 1$ 이므로 Chain rule에 의해 Output node 쪽에서 넘어온 dL과 1, 1을 곱해 앞단으로 $1*dL$, $1*dL$을 넘겨주는 코드이다."
   ]
  },
  {
   "cell_type": "code",
   "execution_count": null,
   "metadata": {},
   "outputs": [],
   "source": [
    "class plus_node():\n",
    "    def __init__(self):\n",
    "        self.x, self.y, self.z = None, None, None\n",
    "    def forward(self, x, y):\n",
    "        self.x, self.y, self.z = x, y, x + y\n",
    "        return self.z\n",
    "    def backward(self, dL):\n",
    "        return 1*dL, 1*dL\n",
    "\n",
    "##### Your Code #####\n",
    "class minus_node():\n",
    "    def __init__(self):\n",
    "        self.x, self.y, self.z = None, None, None\n",
    "    def forward(self, x, y):\n",
    "        \n",
    "    def backward(self, dL):\n",
    "        \n",
    "\n",
    "class mul_node():\n",
    "    def __init__(self):\n",
    "        self.x, self.y, self.z = None, None, None\n",
    "    def forward(self, x, y):\n",
    "        \n",
    "    def backward(self, dL):\n",
    "        \n",
    "class square_node():\n",
    "    def __init__(self):\n",
    "        self.x, self.z = None, None\n",
    "    def forward(self, x):\n",
    "        \n",
    "    def backward(self, dL):\n",
    "        \n",
    "##### Your Code #####\n",
    "\n",
    "test_plus = plus_node()\n",
    "print(\"plus node(forward):\", test_plus.forward(3, 4))\n",
    "print(\"plus node(backward):\", test_plus.backward(5), '\\n')\n",
    "\n",
    "test_minus = minus_node()\n",
    "print(\"minus node(forward):\", test_minus.forward(3, 4))\n",
    "print(\"minus node(backward):\", test_minus.backward(5), '\\n')\n",
    "\n",
    "test_mul = mul_node()\n",
    "print(\"multiplication node(forward):\", test_mul.forward(3, 4))\n",
    "print(\"multiplication node(backward):\", test_mul.backward(5), '\\n')\n",
    "\n",
    "test_square = square_node()\n",
    "print(\"square node(forward):\", test_square.forward(3))\n",
    "print(\"square node(backward):\", test_square.backward(5), '\\n')"
   ]
  },
  {
   "cell_type": "markdown",
   "metadata": {},
   "source": [
    "<center><H3>Expected Output:</H3></center>\n",
    "\n",
    "plus node(forward): 7 <br>\n",
    "plus node(backward): (5, 5) <br><br>\n",
    "\n",
    "minus node(forward): -1 <br>\n",
    "minus node(backward): (5, -5) <br><br>\n",
    "\n",
    "multiplication node(forward): 12 <br>\n",
    "multiplication node(backward): (20, 15) <br><br> \n",
    "\n",
    "square node(forward): 9 <br>\n",
    "square node(backward): 90 \n"
   ]
  },
  {
   "cell_type": "markdown",
   "metadata": {},
   "source": [
    "***\n",
    "### Forward & Backward Propagation and Parameter Update\n",
    "위의 node들을 이용하여 전체 model을 만들고, forward propagation, backward propagation을 구현하여 $\\theta$를 update하는 코드를 작성하시오"
   ]
  },
  {
   "cell_type": "code",
   "execution_count": null,
   "metadata": {},
   "outputs": [],
   "source": [
    "theta = 0\n",
    "lr = 0.001\n",
    "epochs = 10\n",
    "\n",
    "##### Your Code(Model Implmenataion) #####\n",
    "\n",
    "\n",
    "##### Your Code(Model Implmenataion) #####\n",
    "\n",
    "loss_list = []\n",
    "theta_list = []\n",
    "for i in range(epochs):\n",
    "    for i in range(len(x_data)):\n",
    "        ##### Your Code(Forward Propagation) #####\n",
    "\n",
    "\n",
    "        ##### Your Code(Forward Propagation) #####\n",
    "        \n",
    "        \n",
    "        ##### Your Code(Backward Propagation) #####\n",
    "\n",
    "\n",
    "        ##### Your Code(Backward Propagation) #####\n",
    "        \n",
    "fig, ax = plt.subplots(figsize = (10,10))\n",
    "ax.plot(loss_list)\n",
    "ax.set_title(\"loss\")\n",
    "\n",
    "fig, ax = plt.subplots(figsize = (10,10))\n",
    "ax.plot(theta_list)\n",
    "ax.set_title(\"theta\")"
   ]
  },
  {
   "cell_type": "markdown",
   "metadata": {},
   "source": [
    "<center><H3>Expected Output:</H3></center><br>\n",
    "<img src=\"./1_1_image1.png\" width = 400>\n",
    "\n",
    "<img src=\"./1_1_image2.png\" width = 400>"
   ]
  },
  {
   "cell_type": "markdown",
   "metadata": {},
   "source": [
    "**Q1) 위의 결과에서 Loss와 theta 모두 부드러운 곡선의 형태가 나타나지 않는 이유를 분석하시오** <br>\n",
    "\n",
    "\n",
    "\n"
   ]
  }
 ],
 "metadata": {
  "kernelspec": {
   "display_name": "Python 3",
   "language": "python",
   "name": "python3"
  },
  "language_info": {
   "codemirror_mode": {
    "name": "ipython",
    "version": 3
   },
   "file_extension": ".py",
   "mimetype": "text/x-python",
   "name": "python",
   "nbconvert_exporter": "python",
   "pygments_lexer": "ipython3",
   "version": "3.6.10"
  }
 },
 "nbformat": 4,
 "nbformat_minor": 2
}

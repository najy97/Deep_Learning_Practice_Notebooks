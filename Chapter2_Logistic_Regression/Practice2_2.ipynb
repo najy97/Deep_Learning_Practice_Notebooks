{
 "cells": [
  {
   "cell_type": "markdown",
   "metadata": {},
   "source": [
    "# Implementation Practice.2-2\n",
    "## Binary Classification with Sigmoid Function\n",
    "\n",
    "Practice2-1에서 linear regression model을 이용하여 binary classification을 할 때 어떤 문제점이 있는지 알아봤다.\n",
    "\n",
    "그러면 이번 Practice2-2에서는 Practice2-1의 문제를 해결하는 sigmoid function에 대해 알아보도록 하자."
   ]
  },
  {
   "cell_type": "markdown",
   "metadata": {},
   "source": [
    "***\n",
    "## Sigmoid Function\n",
    "\n",
    "먼저 isgmoid function은 다음과 같은 식으로 표현된다.\n",
    "<center>\n",
    "$\\sigma(x) = \\frac{1}{1 + \\exp^{-x}}$\n",
    "</center>\n",
    "이 sigmoid function을 numpy를 이용해 구현해보자."
   ]
  },
  {
   "cell_type": "code",
   "execution_count": null,
   "metadata": {},
   "outputs": [],
   "source": [
    "import numpy as np\n",
    "import matplotlib.pyplot as plt\n",
    "np.random.seed(0)\n",
    "\n",
    "x_range = np.linspace(-10, 10, 1000)\n",
    "##### Your Code(Sigmoid Function/Start) #####\n",
    "y = \n",
    "##### Your Code(Sigmoid Function/Start) #####\n",
    "\n",
    "fig, ax = plt.subplots(figsize = (12, 5))\n",
    "ax.plot(x_range, y)\n",
    "ax.grid()"
   ]
  },
  {
   "cell_type": "markdown",
   "metadata": {},
   "source": [
    "**Expected Output:** <br>\n",
    "<img src=\"./images/2_2_image1.png\">"
   ]
  },
  {
   "cell_type": "markdown",
   "metadata": {},
   "source": [
    "**Q1) Sigmoid function의 수학적 특성들을 분석하시오**"
   ]
  },
  {
   "cell_type": "markdown",
   "metadata": {},
   "source": [
    "***\n",
    "## Dataset Generation\n",
    "\n",
    "이 sigmoid의 특성을 이용하기 위한 dataset을 만들어보자. 이 dataset은 practice2-1에서 사용한 outlier가 있는 dataset을 불러오면 된다."
   ]
  },
  {
   "cell_type": "code",
   "execution_count": null,
   "metadata": {},
   "outputs": [],
   "source": [
    "##### Your Code(Dataset Load/Start) #####\n",
    "\n",
    "\n",
    "##### Your Code(Dataset Load/Start) #####\n",
    "\n",
    "print(\"study_hour_P.shape:\",study_hour_P.shape)\n",
    "print(\"result_P.shape:\", result_P.shape)\n",
    "\n",
    "fig, ax = plt.subplots(figsize = (12,5))\n",
    "ax.plot(x_data[:n_P + n_out], y_data[:n_P + n_out], 'bo')\n",
    "ax.plot(x_data[n_P + n_out:], y_data[n_P + n_out:], 'ro')\n",
    "ax.grid()"
   ]
  },
  {
   "cell_type": "markdown",
   "metadata": {},
   "source": [
    "**Expected Output:** <br>\n",
    "study_hour_P.shape: (70,) <br>\n",
    "result_P.shape: (70,) <br>\n",
    "<img src=\"./images/2_2_image2.png\">"
   ]
  },
  {
   "cell_type": "markdown",
   "metadata": {},
   "source": [
    "***\n",
    "## Node Implemenation\n",
    "\n",
    "위의 sigmoid function은 기존 linear regression model에 추가되는 것이기 때문에 기존의 node들을 그대로 이요하면서 새로 sigmoid_node()를 만들어주면 된다.\n",
    "\n",
    "먼저 기존 node들을 불러오도록 하자."
   ]
  },
  {
   "cell_type": "code",
   "execution_count": 14,
   "metadata": {},
   "outputs": [],
   "source": [
    "##### Your Code(Node Loading/Start) #####\n",
    "class plus_node():\n",
    "    def __init__(self):\n",
    "        self.x, self.y, self.z = None, None, None\n",
    "        \n",
    "    def forward(self, x, y):\n",
    "        self.x, self.y, self.z = x, y, x + y\n",
    "        return self.z\n",
    "    \n",
    "    def backward(self, dL):\n",
    "        return dL, dL\n",
    "    \n",
    "class minus_node():\n",
    "    def __init__(self):\n",
    "        self.x, self.y, self.z = None, None, None\n",
    "        \n",
    "    def forward(self, x, y):\n",
    "        self.x, self.y, self.z = x, y, x - y\n",
    "        return self.z\n",
    "    \n",
    "    def backward(self, dL):\n",
    "        return dL, -1*dL\n",
    "    \n",
    "class mul_node():\n",
    "    def __init__(self):\n",
    "        self.x, self.y, self.z = None, None, None\n",
    "        \n",
    "    def forward(self, x, y):\n",
    "        self.x, self.y, self.z = x, y, x*y\n",
    "        return self.z\n",
    "    def backward(self, dL):\n",
    "        return self.y*dL, self.x*dL\n",
    "\n",
    "class square_node():\n",
    "    def __init__(self):\n",
    "        self.x, self.z = None, None\n",
    "    \n",
    "    def forward(self, x):\n",
    "        self.x, self.z = x, x*x\n",
    "        return self.z\n",
    "    \n",
    "    def backward(self, dL):\n",
    "        return 2*self.x*dL\n",
    "        \n",
    "\n",
    "class cost_node():\n",
    "    def __init__(self):\n",
    "        self.x, self.z = None, None\n",
    "    \n",
    "    def forward(self, x):\n",
    "        self.x = x\n",
    "        self.z = np.mean(self.x)\n",
    "        return self.z\n",
    "    def backward(self):\n",
    "        return 1/len(self.x)*np.ones(shape = (self.x.shape))\n",
    "    \n",
    "##### Your Code(Node Loading/End) #####"
   ]
  },
  {
   "cell_type": "markdown",
   "metadata": {},
   "source": [
    "그리고 추가적으로 sigmoid_node()를 만들어준다. 이때 sigmoid의 forward는 위의 Sigmoid Function part에서의 식을 이용하면 되고, backward는\n",
    "\n",
    "<center>\n",
    "$\\frac{\\partial \\sigma{(x)}}{\\partial x} = \\sigma{(x)}(1- \\sigma{(x)})$\n",
    "</center>\n",
    "의 식을 이용하면 된다."
   ]
  },
  {
   "cell_type": "code",
   "execution_count": null,
   "metadata": {},
   "outputs": [],
   "source": [
    "class sigmoid_node():\n",
    "    def __init__(self):\n",
    "        \n",
    "        \n",
    "    def forward(self, x):\n",
    "        \n",
    "    \n",
    "    def backward(self, dL):\n",
    "        \n",
    "    \n",
    "test_sigmoid = sigmoid_node()\n",
    "test_x = np.array([1, 2, 3, 4, 5])\n",
    "print(test_sigmoid.forward(test_x))\n",
    "print(test_sigmoid.backward(1))"
   ]
  },
  {
   "cell_type": "markdown",
   "metadata": {},
   "source": [
    "**Expected Output:** <br>\n",
    "[0.73105858 0.88079708 0.95257413 0.98201379 0.99330715] <br>\n",
    "[0.19661193 0.10499359 0.04517666 0.01766271 0.00664806]"
   ]
  },
  {
   "cell_type": "markdown",
   "metadata": {},
   "source": [
    "***\n",
    "## Model Implementation\n",
    "\n",
    "위의 node들을 이용해서 sigmoid를 추가한 다음과 같은 모델을 만들어보자.\n",
    "\n",
    "<img src=\"./images/2_2_image3.png\">\n",
    "\n",
    "위에서 알 수 있듯이, 추가된 node는 sigmoid_node밖에 없고, 나머지는 Practice2-1에서와 동일하다."
   ]
  },
  {
   "cell_type": "code",
   "execution_count": 49,
   "metadata": {},
   "outputs": [],
   "source": [
    "##### Your Code(Model Implementation/Start) #####\n",
    "Z1_node = \n",
    "Z2_node = \n",
    "Z3_node = \n",
    "Z4_node = \n",
    "L_node = \n",
    "J_node = \n",
    "##### Your Code(Model Implementation/Start) #####"
   ]
  },
  {
   "cell_type": "markdown",
   "metadata": {},
   "source": [
    "***\n",
    "## Learning Preparation\n",
    "그 후에 학습에 필요한 값들을 정의하고, 결과를 확인하기 위한 list들을 초기화해준다."
   ]
  },
  {
   "cell_type": "code",
   "execution_count": 50,
   "metadata": {},
   "outputs": [],
   "source": [
    "theta1, theta0 = 0, 0# theta1, theta0 설정\n",
    "lr = 0.03# learning rate 설정\n",
    "epochs = 10000#총 epoch 설정\n",
    "\n",
    "cost_list = []\n",
    "theta1_list, theta0_list = [], []"
   ]
  },
  {
   "cell_type": "markdown",
   "metadata": {},
   "source": [
    "***\n",
    "## Learning Process\n",
    "\n",
    "학습에서 달라진 점도 Z4_node가 하나 추가된 것밖에 없다."
   ]
  },
  {
   "cell_type": "code",
   "execution_count": 51,
   "metadata": {},
   "outputs": [],
   "source": [
    "for i in range(epochs):\n",
    "    ##### Your Code(Learning Process/Start) #####\n",
    "    Z1 = \n",
    "    Z2 = \n",
    "    Z3 = \n",
    "    Z4 = \n",
    "    L = \n",
    "    J = \n",
    "    \n",
    "    dL = \n",
    "    dZ4 = \n",
    "    dY, dZ3 = \n",
    "    dZ2 = \n",
    "    dZ1, dTheta0 = \n",
    "    dTheta1, dX = \n",
    "    ##### Your Code(Learning Process/End) #####\n",
    "    \n",
    "    theta1 = theta1 - lr*np.sum(dTheta1)\n",
    "    theta0 = theta0 - lr*np.sum(dTheta0)\n",
    "    \n",
    "    cost_list.append(J)\n",
    "    theta1_list.append(theta1)\n",
    "    theta0_list.append(theta0)"
   ]
  },
  {
   "cell_type": "markdown",
   "metadata": {},
   "source": [
    "***\n",
    "## Result Visualization"
   ]
  },
  {
   "cell_type": "code",
   "execution_count": null,
   "metadata": {},
   "outputs": [],
   "source": [
    "fig, ax = plt.subplots(2, 1, figsize = (12, 8))\n",
    "ax[0].set_title(\"Cost\")\n",
    "ax[1].set_title(r'$\\theta_{1} \\quad and \\quad \\theta_{0}$')\n",
    "ax[0].plot(cost_list)\n",
    "ax[1].plot(theta1_list, label = r'$\\theta_{1}$')\n",
    "ax[1].plot(theta0_list, label = r'$\\theta_{0}$')\n",
    "ax[1].legend(loc = 'upper right', fontsize = 20)\n",
    "\n",
    "x_min, x_max = x_data.min(), x_data.max()\n",
    "y_min, y_max = Z3_node.forward(x_min*theta1 + theta0), Z3_node.forward(x_max*theta1 + theta0)\n",
    "x_range = np.linspace(x_min, x_max, 1000)\n",
    "y_range = Z3_node.forward(x_range*theta1 + theta0)\n",
    "y_d_idx = np.where(np.abs(y_range - 0.5) == np.min(np.abs(y_range - 0.5)))\n",
    "x_d_val = x_range[y_d_idx]\n",
    "\n",
    "fig, ax = plt.subplots(figsize = (12,5))\n",
    "ax.plot(x_data[:n_P + n_out], y_data[:n_P + n_out], 'bo')\n",
    "ax.plot(x_data[n_P + n_out:], y_data[n_P + n_out:], 'ro')\n",
    "ax.plot(x_range, y_range, 'r', linewidth = 2)\n",
    "ax.plot([x_range[y_d_idx], x_range[y_d_idx]], [0, y_range[y_d_idx]], 'purple', linewidth = 3)\n",
    "ax.plot(x_range[y_d_idx], y_range[y_d_idx], 'purple', marker = 'o', markersize = 10)\n",
    "ax.text(x_range[y_d_idx]*1.05, y_range[y_d_idx],\n",
    "        s = \"Decision Boundary:\" + str(np.round(x_range[y_d_idx], 2)),\n",
    "       fontdict = {'color':  'purple', 'fontsize': 20})\n",
    "ax.grid()"
   ]
  },
  {
   "cell_type": "markdown",
   "metadata": {},
   "source": [
    "**Expected Output:** <br>\n",
    "<img src=\"./images/2_2_image4.png\">\n",
    "<img src=\"./images/2_2_image5.png\">"
   ]
  },
  {
   "cell_type": "markdown",
   "metadata": {},
   "source": [
    "**Q2) 위와 같이 sigmoid function이 outlier의 영향을 덜 받는 이유를 수학적으로 분석하시오.**"
   ]
  }
 ],
 "metadata": {
  "kernelspec": {
   "display_name": "Python 3",
   "language": "python",
   "name": "python3"
  },
  "language_info": {
   "codemirror_mode": {
    "name": "ipython",
    "version": 3
   },
   "file_extension": ".py",
   "mimetype": "text/x-python",
   "name": "python",
   "nbconvert_exporter": "python",
   "pygments_lexer": "ipython3",
   "version": "3.6.10"
  }
 },
 "nbformat": 4,
 "nbformat_minor": 2
}
